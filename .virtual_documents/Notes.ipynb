import matplotlib.pyplot as plt
import numpy as np

x_dx = {
    'sigmoid': np.linspace(-10, 10, 400),
    'logarithmic': np.linspace(0.1, 10, 400),
    'convex': np.linspace(-10, 10, 400),
    'linear': np.linspace(-10, 10, 400),
    'cuadratic': np.linspace(-10, 10, 400),
    'cube': np.linspace(-10, 10, 400)}

functions = {
    'sigmoid': (x_dx['sigmoid'], 1 / (1 + np.exp(-x_dx['sigmoid'])), 'f(x)= σ(1/1+e^x)'),
    'logarithmic' : (x_dx['logarithmic'], np.log(x_dx['logarithmic']),'f(x) = log(x)'),
    'convex': (x_dx['convex'], np.exp(x_dx['convex']),'f(x) = e^x'),
    'linear': (x_dx['linear'], 2 * x_dx['linear'], 'f(x) = 2x'),
    'cuadratic': (x_dx['cuadratic'], x_dx['cuadratic'] ** 2, 'f(x) = x^2'),
    'cube': (x_dx['cube'], x_dx['cube'] ** 3, 'f(x) = x^3'),
}

def graph_functions(dx_functions):
    for function,x_y_label in dx_functions.items():
        x,y,label = x_y_label
        plt.figure(figsize=(5,3))
        plt.plot(x,y,label=label)
        plt.xlabel('x')
        plt.ylabel('f(x)')
        plt.axhline(0, color='black', linewidth=0.8, linestyle='--')
        plt.axvline(0, color='black', linewidth=0.8, linestyle='--')
        plt.legend()
        plt.grid(True)
        plt.savefig(f'{function}_function.png')
        plt.close()

graph_functions(functions)








5.001**3



