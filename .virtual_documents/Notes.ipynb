import matplotlib.pyplot as plt
import numpy as np

x_dx = {
    'sigmoid': np.linspace(-10, 10, 400),
    'logarithmic': np.linspace(0.1, 10, 400),
    'convex': np.linspace(-10, 10, 400),
    'linear': np.linspace(-10, 10, 400),
    'cuadratic': np.linspace(-10, 10, 400),
    'cube': np.linspace(-10, 10, 400)}

functions = {
    'sigmoid': (x_dx['sigmoid'], 1 / (1 + np.exp(-x_dx['sigmoid'])), 'f(x)= σ(1/1+e^x)'),
    'logarithmic' : (x_dx['logarithmic'], np.log(x_dx['logarithmic']),'f(x) = log(x)'),
    'convex': (x_dx['convex'], np.exp(x_dx['convex']),'f(x) = e^x'),
    'linear': (x_dx['linear'], 2 * x_dx['linear'], 'f(x) = 2x'),
    'cuadratic': (x_dx['cuadratic'], x_dx['cuadratic'] ** 2, 'f(x) = x^2'),
    'cube': (x_dx['cube'], x_dx['cube'] ** 3, 'f(x) = x^3'),
}

def graph_functions(dx_functions):
    for function,x_y_label in dx_functions.items():
        x,y,label = x_y_label
        plt.figure(figsize=(5,3))
        plt.plot(x,y,label=label)
        plt.xlabel('x')
        plt.ylabel('f(x)')
        plt.axhline(0, color='black', linewidth=0.8, linestyle='--')
        plt.axvline(0, color='black', linewidth=0.8, linestyle='--')
        plt.legend()
        plt.grid(True)
        plt.savefig(f'{function}_function.png')
        plt.close()

graph_functions(functions)








import numpy as np

# Calculando el logaritmo base 2 de 8 usando numpy
number = 8
log_base_2 = np.log(number) / np.log(2)

print("log base 2 de 8 es:", log_base_2)




out_box = 1000
in_box = 0

for day in range(0,10*10**5):
    if out_box>0:
        to_box = out_box/2
        in_box += to_box
        out_box -= to_box
        print(f'in box{in_box}, out of the box{out_box}')



